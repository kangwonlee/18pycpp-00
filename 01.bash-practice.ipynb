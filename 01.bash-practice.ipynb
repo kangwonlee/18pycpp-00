{
 "cells": [
  {
   "cell_type": "markdown",
   "metadata": {},
   "source": [
    "## Practice Followings<br>실습 예\n",
    "\n"
   ]
  },
  {
   "cell_type": "markdown",
   "metadata": {},
   "source": [
    "### Opening a `bash` window on Linux GUI\n",
    "\n"
   ]
  },
  {
   "cell_type": "markdown",
   "metadata": {},
   "source": [
    "1. Start a linux machine<br>리눅스 시작\n",
    "1. Log in using your id<br>필요시 id로 log in\n",
    "1. Press <kbd>Ctrl</kbd>+<kbd>Alt</kbd>+<kbd>t</kbd> key to open a `bash` terminal<br><kbd>Ctrl</kbd>+<kbd>Alt</kbd>+<kbd>t</kbd> 키를 눌러 `bash` 창을 엶\n",
    "\n"
   ]
  },
  {
   "cell_type": "markdown",
   "metadata": {},
   "source": [
    "### Opening a `git-bash` window on Windows\n",
    "\n"
   ]
  },
  {
   "cell_type": "markdown",
   "metadata": {},
   "source": [
    "1. Open a window of the folder of interest<br>작업 대상 폴더 창을 엶\n",
    "1. Open right mouse click menu on a space instead of selecting a file<br>파일을 선택하지 말고 여백 위에 오른쪽 마우스 메뉴를 엶\n",
    "1. Select **Git Bash Here** command<br>**Git Bash Here** 명령 선택\n",
    "\n"
   ]
  },
  {
   "cell_type": "markdown",
   "metadata": {},
   "source": [
    "### Opening a `bash` pane in a `repl`\n",
    "\n"
   ]
  },
  {
   "cell_type": "markdown",
   "metadata": {},
   "source": [
    "1. Click on the edit pane<br>편집 칸 선택\n",
    "1. Press <kbd>F1</kbd><br><kbd>F1</kbd> 키를 누름\n",
    "1. Select `Open Shell`<br>`Open Shell` 선택\n",
    "\n"
   ]
  },
  {
   "cell_type": "markdown",
   "metadata": {},
   "source": [
    "### After opening a `bash` window<br>`bash` 창을 연 후\n",
    "\n"
   ]
  },
  {
   "cell_type": "markdown",
   "metadata": {},
   "source": [
    "1. Enter `pwd` to check the current working directory<br>`pwd`로 현재 작업 폴더 확인\n",
    "\n"
   ]
  },
  {
   "cell_type": "code",
   "execution_count": null,
   "metadata": {
    "scrolled": true
   },
   "outputs": [],
   "source": [
    "# To test pwd command, select this cell and press Shift + Enter\n",
    "# pwd 명령을 시험하려면 이 셀을 선택하고 Shift + Enter 키 입력\n",
    "!pwd\n",
    "\n"
   ]
  },
  {
   "cell_type": "markdown",
   "metadata": {},
   "source": [
    "2. Try `ls` to check the content of the current folder<br>`ls`로 현재 폴더 내용 확인\n",
    "\n"
   ]
  },
  {
   "cell_type": "code",
   "execution_count": null,
   "metadata": {},
   "outputs": [],
   "source": [
    "!ls\n",
    "\n"
   ]
  },
  {
   "cell_type": "markdown",
   "metadata": {},
   "source": [
    "3. `mkdir temp` would create a folder whose name is `temp`<br>`mkdir temp`로 하위 폴더 생성 (이름은 `temp`)\n",
    "1. To move into the new folder, enter `cd temp`<br>`cd temp`로 하위 폴더 `temp`로 이동\n",
    "1. Now let's try `which python` to see the location of the `python` command<br>`which python`으로 `python` 명령의 전체 경로 확인\n",
    "\n"
   ]
  },
  {
   "cell_type": "code",
   "execution_count": null,
   "metadata": {},
   "outputs": [],
   "source": [
    "!which python\n",
    "\n"
   ]
  },
  {
   "cell_type": "markdown",
   "metadata": {},
   "source": [
    "## Shell scripts<br>셸 스크립트\n",
    "\n"
   ]
  },
  {
   "cell_type": "markdown",
   "metadata": {},
   "source": [
    "* If you create a text file containing shell commands, we can call it a shell script file and run on a shell such as bash.<br>\n",
    "셸 명령을 모은 파일을 셸 스크립트라고 부르고 실행시켜볼 수 있다.\n",
    "\n"
   ]
  },
  {
   "cell_type": "markdown",
   "metadata": {},
   "source": [
    "### `vi` editor\n",
    "\n"
   ]
  },
  {
   "cell_type": "markdown",
   "metadata": {},
   "source": [
    "* About `vi` editor commants, see below<br>`vi` 편집기 명령에 대해서는 아래 참조\n",
    "* `cd <to an appropriate folder>`<br>`cd <적당한 폴더>`\n",
    "* `vi name.sh`\n",
    "* <kbd>i</kbd>\n",
    "* Enter following code [[ref](https://www.macs.hw.ac.uk/~hwloidl/Courses/LinuxIntro/x984.html)]<br>아래 코드를 입력 [[ref](https://www.macs.hw.ac.uk/~hwloidl/Courses/LinuxIntro/x984.html)]\n",
    "\n"
   ]
  },
  {
   "cell_type": "markdown",
   "metadata": {},
   "source": [
    "``` bash\n",
    "#!/bin/bash\n",
    "\n",
    "# example of using arguments to a script\n",
    "# 스크립트에 명령행 매개변수를 사용하는 예\n",
    "echo \"My first name is $1\"\n",
    "echo \"My surname is $2\"\n",
    "echo \"Total number of arguments is $#\" \n",
    "\n",
    "```\n",
    "\n"
   ]
  },
  {
   "cell_type": "markdown",
   "metadata": {},
   "source": [
    "* <kbd>Esc</kbd><br>`:wq`<kbd>Enter</kbd>\n",
    "\n"
   ]
  },
  {
   "cell_type": "markdown",
   "metadata": {},
   "source": [
    "* The cell below can write the file instead of an editor.<br>아래 cell은 편집기 대신 파일을 작성할 수 있음.\n",
    "\n"
   ]
  },
  {
   "cell_type": "code",
   "execution_count": null,
   "metadata": {},
   "outputs": [],
   "source": [
    "%%writefile name.sh\n",
    "#!/bin/bash\n",
    "\n",
    "# example of using arguments to a script\n",
    "# 스크립트에 명령행 매개변수를 사용하는 예\n",
    "echo \"My first name is $1\"\n",
    "echo \"My surname is $2\"\n",
    "echo \"Total number of arguments is $#\"\n",
    "\n"
   ]
  },
  {
   "cell_type": "markdown",
   "metadata": {},
   "source": [
    "* `source name.sh firstname surname`<br>Or / 또는<br>`. name.sh firstname surname`\n",
    "\n"
   ]
  },
  {
   "cell_type": "code",
   "execution_count": null,
   "metadata": {
    "scrolled": true
   },
   "outputs": [],
   "source": [
    "# source name.sh abc xyz\n",
    "# The following code would give the same result as the command above in bash shell\n",
    "# 다음 코드의 결과는 bash 셸 안에서 위 명령을 실행한 경우와 같음\n",
    "\n",
    "# Import a module to expand features of python\n",
    "# python 기능 확장을 위해 모듈을 불러들임\n",
    "import subprocess\n",
    "import os\n",
    "\n",
    "# see if the file exists\n",
    "# 파일이 있는지 확인\n",
    "assert os.path.exists('name.sh')\n",
    "\n",
    "# run the command\n",
    "# 명령 실행\n",
    "print(subprocess.check_output(['sh', 'name.sh', 'abc', 'xyz'], encoding='utf-8'))\n",
    "\n"
   ]
  },
  {
   "cell_type": "markdown",
   "metadata": {},
   "source": [
    "## Permission<br>권한\n",
    "\n"
   ]
  },
  {
   "cell_type": "markdown",
   "metadata": {},
   "source": [
    "* Unix or Linux files have **permission** attributes about who can do what about them.<br>유닉스 또는 리눅스 파일에는 **권한**에 따라 누가 어떤 조치를 취할 수 있는지 결정됨.\n",
    "\n"
   ]
  },
  {
   "cell_type": "markdown",
   "metadata": {},
   "source": [
    "* Each file's permission status we can check using `ls -l`.<br>각 파일의 권한 상태는 `ls -l`로 확인할 수 있음\n",
    "\n"
   ]
  },
  {
   "cell_type": "code",
   "execution_count": null,
   "metadata": {
    "scrolled": false
   },
   "outputs": [],
   "source": [
    "!ls -l\n",
    "\n"
   ]
  },
  {
   "cell_type": "markdown",
   "metadata": {},
   "source": [
    "* For now, let's take a look at the following example output from `ls -l`.<br>이하는 아래의 `ls -l` 출력 예를 참고.\n",
    "\n"
   ]
  },
  {
   "cell_type": "markdown",
   "metadata": {},
   "source": [
    "```\n",
    "-rw-r--r-- 1 author beachgoer 10815 Oct 31 06:17 00.ipynb\n",
    "-rw-r--r-- 1 author beachgoer  7137 Sep 30 06:27 01.ipynb\n",
    "-rw-r--r-- 1 author beachgoer 15170 Sep 30 06:27 02.ipynb\n",
    "-rw-r--r-- 1 author beachgoer  1511 Oct  9 16:10 LICENSE\n",
    "drwxr-xr-x 3 author beachgoer  4096 Oct 29 10:09 tests\n",
    "\n",
    "```\n",
    "\n"
   ]
  },
  {
   "cell_type": "markdown",
   "metadata": {},
   "source": [
    "* Here, `beachegoer` and `author` are the owner and the owner's user group.<br>여기서 `beachegoer` 와 `author`는 소유자와 소유자의 소속 그룹임.\n",
    "\n"
   ]
  },
  {
   "cell_type": "markdown",
   "metadata": {},
   "source": [
    "* Let's look at the left 10 characters.<br>왼쪽 첫 10글자를 살펴보기 바람.\n",
    "\n"
   ]
  },
  {
   "cell_type": "markdown",
   "metadata": {},
   "source": [
    "* First character is `d` if it is a director. `-` means it is a file.<br>첫 글자가 `d` 이면 폴더이고 `-`이면 파일임.\n",
    "\n"
   ]
  },
  {
   "cell_type": "markdown",
   "metadata": {},
   "source": [
    "* Follorwing three characters are file owner's permissions.<br>그 다음 세 자는 파일 소유자의 권한임.\n",
    "* `r` for read, `w` for write, and `x` for execution.<br>`r`은 읽기, `w`는 쓰기, `x`는 실행을 뜻함.\n",
    "* If these characters are `rw-`, the owner can read or modify but cannot execute the file.<br>`rw-` 라면, 소유자는 읽고 고칠 수 있으나 실행할 수는 없음.\n",
    "\n"
   ]
  },
  {
   "cell_type": "markdown",
   "metadata": {},
   "source": [
    "* The next three characters are permissions for the members of file owner's group.<br>그 다음 세 자는 소유자의 그룹의 일원의 권한임.\n",
    "* `r`, `w`, and `x` mean the same as before.<br>`r`, `w`, `x`의 의미는 위와 같음.\n",
    "* If these characters are `r--`, the group members can read but cannot modify or execute the file.<br>`r--`라면 읽기만 가능함.\n",
    "\n"
   ]
  },
  {
   "cell_type": "markdown",
   "metadata": {},
   "source": [
    "* The last three characters are for others.<br>다음 세 자는 다른 사용자들의 권한임.\n",
    "\n"
   ]
  },
  {
   "cell_type": "markdown",
   "metadata": {},
   "source": [
    "* For directories, permissions mean what users can do with the files in the folder.<br>폴더의 권한은, 어떤 사용자가 폴더 안 파일에 무엇을 할 수 있는가에 관한 것임.\n",
    "\n"
   ]
  },
  {
   "cell_type": "markdown",
   "metadata": {},
   "source": [
    "### How to change permissions<br>권한을 변경하는 방법\n",
    "\n"
   ]
  },
  {
   "cell_type": "markdown",
   "metadata": {},
   "source": [
    "* Following exercises may not run as expected in Windows.<br>\n",
    "다음 예제는 Windows 에서는 다소 예상과 다르게 작동할 수 있음.\n",
    "\n"
   ]
  },
  {
   "cell_type": "markdown",
   "metadata": {},
   "source": [
    "* We can use `chmod` to change permissions.<br>`chmod`로 권한을 변경할 수 있음.\n",
    "\n"
   ]
  },
  {
   "cell_type": "markdown",
   "metadata": {},
   "source": [
    "* The following command would allow the owner to execute the `name.sh` file.<br>아래 명령으로 소유자가 `name.sh` 파일을 실행시킬 수 있게 됨.\n",
    "\n",
    "```sh\n",
    "chmod u+x name.sh\n",
    "```\n",
    "\n"
   ]
  },
  {
   "cell_type": "code",
   "execution_count": null,
   "metadata": {},
   "outputs": [],
   "source": [
    "!ls -l name.sh\n",
    "\n"
   ]
  },
  {
   "cell_type": "code",
   "execution_count": null,
   "metadata": {},
   "outputs": [],
   "source": [
    "!chmod u+x name.sh\n",
    "\n"
   ]
  },
  {
   "cell_type": "code",
   "execution_count": null,
   "metadata": {},
   "outputs": [],
   "source": [
    "!ls -l name.sh\n",
    "\n"
   ]
  },
  {
   "cell_type": "markdown",
   "metadata": {},
   "source": [
    "* The following line would allow the group members to modify the `name.sh` file.<br>아래 명령으로 그룹 멤버가 파일을 수정할 수 있게 됨.\n",
    "\n",
    "\n",
    "```sh\n",
    "chmod g+w name.sh\n",
    "```\n",
    "\n"
   ]
  },
  {
   "cell_type": "code",
   "execution_count": null,
   "metadata": {},
   "outputs": [],
   "source": [
    "!chmod g+w name.sh\n",
    "\n"
   ]
  },
  {
   "cell_type": "code",
   "execution_count": null,
   "metadata": {},
   "outputs": [],
   "source": [
    "!ls -l name.sh\n",
    "\n"
   ]
  },
  {
   "cell_type": "markdown",
   "metadata": {},
   "source": [
    "* The following command would others unable to read the `name.sh` file.<br>다른 사용자들은 파일을 읽을 수 없게 됨.\n",
    "\n",
    "\n",
    "```sh\n",
    "chmod o-r name.sh\n",
    "```\n",
    "\n"
   ]
  },
  {
   "cell_type": "code",
   "execution_count": null,
   "metadata": {},
   "outputs": [],
   "source": [
    "!chmod o-r name.sh\n",
    "\n"
   ]
  },
  {
   "cell_type": "code",
   "execution_count": null,
   "metadata": {},
   "outputs": [],
   "source": [
    "!ls -l name.sh\n",
    "\n"
   ]
  },
  {
   "cell_type": "markdown",
   "metadata": {},
   "source": [
    "### Clean up<br>정리\n",
    "\n"
   ]
  },
  {
   "cell_type": "code",
   "execution_count": null,
   "metadata": {},
   "outputs": [],
   "source": [
    "# Remove practice files\n",
    "# 실습 파일 제거\n",
    "os.remove('name.sh')\n",
    "\n",
    "# see if the file does not exist\n",
    "# 파일이 없는지 확인\n",
    "assert not os.path.exists('name.sh')\n",
    "\n"
   ]
  },
  {
   "cell_type": "markdown",
   "metadata": {},
   "source": [
    "### Final Bell\n",
    "\n"
   ]
  },
  {
   "cell_type": "code",
   "execution_count": null,
   "metadata": {},
   "outputs": [],
   "source": [
    "import os\n",
    "os.system('printf \\a');\n",
    "\n"
   ]
  },
  {
   "cell_type": "code",
   "execution_count": null,
   "metadata": {},
   "outputs": [],
   "source": []
  }
 ],
 "metadata": {
  "kernelspec": {
   "display_name": "Python 3",
   "language": "python",
   "name": "python3"
  },
  "language_info": {
   "codemirror_mode": {
    "name": "ipython",
    "version": 3
   },
   "file_extension": ".py",
   "mimetype": "text/x-python",
   "name": "python",
   "nbconvert_exporter": "python",
   "pygments_lexer": "ipython3",
   "version": "3.7.3"
  }
 },
 "nbformat": 4,
 "nbformat_minor": 2
}
